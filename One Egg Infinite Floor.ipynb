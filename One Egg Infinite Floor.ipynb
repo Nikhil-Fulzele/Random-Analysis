{
 "cells": [
  {
   "cell_type": "code",
   "execution_count": 328,
   "metadata": {
    "ExecuteTime": {
     "end_time": "2022-05-28T11:52:10.708396Z",
     "start_time": "2022-05-28T11:52:10.694176Z"
    }
   },
   "outputs": [],
   "source": [
    "from random import randint\n",
    "import pandas as pd \n",
    "\n",
    "class Strategy:\n",
    "    def __init__(self):\n",
    "        pass\n",
    "\n",
    "    def guess(self, n):\n",
    "        a, b = 0, 1\n",
    "        for _ in range(n):\n",
    "            yield a\n",
    "            a, b = b, a + b\n",
    "\n",
    "    def guess2(self, n):\n",
    "        a = 0\n",
    "        for _ in range(n):\n",
    "            yield 2**a\n",
    "            a += 1\n",
    "    \n",
    "    def guess_mul(self, n):\n",
    "        a = 1\n",
    "        for _ in range(n):\n",
    "            yield a\n",
    "            a = 2*a\n",
    "    \n",
    "    def guess_ap(self, n):\n",
    "        a = 1\n",
    "        for _ in range(n):\n",
    "            yield a\n",
    "            a = 2 + a\n",
    "    \n",
    "    def guess_ap_e(self, n):\n",
    "        a = 1\n",
    "        for _ in range(n):\n",
    "            yield a\n",
    "            a = 2.718 + a\n",
    "    \n",
    "    def guess_ap_pie(self, n):\n",
    "        a = 1\n",
    "        for _ in range(n):\n",
    "            yield a\n",
    "            a = 2.6 + a\n",
    "    \n",
    "class Simulate:\n",
    "    def __init__(self, runs, strategy, a=100):\n",
    "        self.runs = runs\n",
    "        self.strategy = strategy\n",
    "        self.a = a\n",
    "        self.run_info = []\n",
    "    \n",
    "    def simulate(self):\n",
    "        \n",
    "        # for each run\n",
    "        for i in range(self.runs):\n",
    "            \n",
    "            # generate random environment\n",
    "            environ = randint(0, randint(1, self.a))\n",
    "                        \n",
    "            # find the floors\n",
    "            g = 0\n",
    "            attempt = 1\n",
    "            \n",
    "            # initiate strategy generator\n",
    "            gen = strategy.guess_ap_pie(2 * environ)\n",
    "            \n",
    "            while g < environ:\n",
    "                # get guess based on strategy\n",
    "                val = int(next(gen))\n",
    "                g += val \n",
    "                attempt += 1\n",
    "\n",
    "            # calculate distance\n",
    "            distance = g - environ\n",
    "                        \n",
    "            # log run info\n",
    "            self.run_info.append([i, environ, g, distance, attempt])\n",
    "        \n",
    "    def simulation_stats(self):\n",
    "        info_df = pd.DataFrame(self.run_info, columns=[\"run_id\", \"environ\", \"final_guess\", \"distance\", \"attempt\"])\n",
    "        \n",
    "        avg_distance = info_df[\"distance\"].mean()\n",
    "        avg_attempt = info_df[\"attempt\"].mean()\n",
    "        \n",
    "        return avg_distance, avg_attempt"
   ]
  },
  {
   "cell_type": "code",
   "execution_count": 329,
   "metadata": {
    "ExecuteTime": {
     "end_time": "2022-05-28T11:52:11.571864Z",
     "start_time": "2022-05-28T11:52:11.555830Z"
    }
   },
   "outputs": [],
   "source": [
    "strategy = Strategy()\n",
    "simulate = Simulate(100000, strategy)"
   ]
  },
  {
   "cell_type": "code",
   "execution_count": 302,
   "metadata": {
    "ExecuteTime": {
     "end_time": "2022-05-28T11:36:39.067089Z",
     "start_time": "2022-05-28T11:36:38.484941Z"
    }
   },
   "outputs": [
    {
     "data": {
      "text/plain": [
       "(4.1827, 5.83473)"
      ]
     },
     "execution_count": 302,
     "metadata": {},
     "output_type": "execute_result"
    }
   ],
   "source": [
    "simulate.simulate()\n",
    "simulate.simulation_stats()"
   ]
  },
  {
   "cell_type": "code",
   "execution_count": 305,
   "metadata": {
    "ExecuteTime": {
     "end_time": "2022-05-28T11:36:53.486587Z",
     "start_time": "2022-05-28T11:36:52.914469Z"
    }
   },
   "outputs": [
    {
     "data": {
      "text/plain": [
       "(4.99218, 5.48083)"
      ]
     },
     "execution_count": 305,
     "metadata": {},
     "output_type": "execute_result"
    }
   ],
   "source": [
    "simulate.simulate()\n",
    "simulate.simulation_stats()"
   ]
  },
  {
   "cell_type": "code",
   "execution_count": 330,
   "metadata": {
    "ExecuteTime": {
     "end_time": "2022-05-28T11:52:14.256843Z",
     "start_time": "2022-05-28T11:52:13.619724Z"
    }
   },
   "outputs": [
    {
     "data": {
      "text/plain": [
       "(4.88541, 5.54727)"
      ]
     },
     "execution_count": 330,
     "metadata": {},
     "output_type": "execute_result"
    }
   ],
   "source": [
    "simulate.simulate()\n",
    "simulate.simulation_stats()"
   ]
  },
  {
   "cell_type": "code",
   "execution_count": 312,
   "metadata": {
    "ExecuteTime": {
     "end_time": "2022-05-28T11:37:50.606835Z",
     "start_time": "2022-05-28T11:37:50.604029Z"
    }
   },
   "outputs": [],
   "source": [
    "from joblib import Parallel, delayed"
   ]
  },
  {
   "cell_type": "code",
   "execution_count": 331,
   "metadata": {
    "ExecuteTime": {
     "end_time": "2022-05-28T11:52:17.777567Z",
     "start_time": "2022-05-28T11:52:17.772291Z"
    }
   },
   "outputs": [],
   "source": [
    "strategy = Strategy()\n",
    "\n",
    "def multisrun(a):\n",
    "    ans = []\n",
    "    print(f\"a: {a}\")\n",
    "    \n",
    "    simulate = Simulate(100000, strategy, a=a)\n",
    "\n",
    "    for i in range(10):\n",
    "        \n",
    "        simulate.simulate()\n",
    "        \n",
    "        avg_distance, avg_attempt = simulate.simulation_stats()\n",
    "        \n",
    "        temp = {}\n",
    "        \n",
    "        temp[\"a\"] = a\n",
    "        temp[\"i\"] = i\n",
    "        temp[\"avg_distance\"] = avg_distance\n",
    "        temp[\"avg_attempt\"] = avg_attempt\n",
    "        \n",
    "        ans.append(temp)\n",
    "    \n",
    "    return ans"
   ]
  },
  {
   "cell_type": "code",
   "execution_count": 332,
   "metadata": {
    "ExecuteTime": {
     "end_time": "2022-05-28T11:56:53.601626Z",
     "start_time": "2022-05-28T11:52:19.331247Z"
    },
    "scrolled": true
   },
   "outputs": [
    {
     "name": "stdout",
     "output_type": "stream",
     "text": [
      "a: 1\n",
      "a: 11\n",
      "a: 21\n",
      "a: 31\n",
      "a: 41\n",
      "a: 51\n",
      "a: 71\n",
      "a: 81\n",
      "a: 61\n",
      "a: 91\n",
      "a: 101\n",
      "a: 111\n",
      "a: 121\n",
      "a: 131\n",
      "a: 141\n",
      "a: 151\n",
      "a: 161\n",
      "a: 171\n",
      "a: 181\n",
      "a: 191\n",
      "a: 201\n",
      "a: 211\n",
      "a: 221\n",
      "a: 231\n",
      "a: 241\n",
      "a: 251\n",
      "a: 261\n",
      "a: 271\n",
      "a: 281\n",
      "a: 291\n",
      "a: 301\n",
      "a: 311\n",
      "a: 321\n",
      "a: 331\n",
      "a: 341\n",
      "a: 351\n",
      "a: 361\n",
      "a: 371\n",
      "a: 381\n",
      "a: 391\n",
      "a: 401\n",
      "a: 411\n",
      "a: 421\n",
      "a: 431\n",
      "a: 441\n",
      "a: 451\n",
      "a: 461\n",
      "a: 471\n",
      "a: 481\n",
      "a: 491\n",
      "a: 501\n",
      "a: 511\n",
      "a: 521\n",
      "a: 531\n",
      "a: 541\n",
      "a: 551\n",
      "a: 561\n",
      "a: 571\n",
      "a: 581\n",
      "a: 591\n",
      "a: 601\n",
      "a: 611\n",
      "a: 621\n",
      "a: 631\n",
      "a: 641\n",
      "a: 651\n",
      "a: 661\n",
      "a: 671\n",
      "a: 681\n",
      "a: 691\n",
      "a: 701\n",
      "a: 711\n",
      "a: 721\n",
      "a: 731\n",
      "a: 741\n",
      "a: 751\n",
      "a: 761\n",
      "a: 771\n",
      "a: 781\n",
      "a: 791\n",
      "a: 801\n",
      "a: 811\n",
      "a: 821\n",
      "a: 831\n",
      "a: 841\n",
      "a: 851\n",
      "a: 861\n",
      "a: 871\n",
      "a: 881\n",
      "a: 891\n",
      "a: 901\n",
      "a: 911\n",
      "a: 921\n",
      "a: 931\n",
      "a: 941\n",
      "a: 951\n",
      "a: 961\n",
      "a: 971\n",
      "a: 981\n",
      "a: 991\n"
     ]
    }
   ],
   "source": [
    "out = Parallel(n_jobs=20, backend=\"multiprocessing\")(delayed(multisrun)(a)for a in range(1, 1000, 10))"
   ]
  },
  {
   "cell_type": "code",
   "execution_count": 333,
   "metadata": {
    "ExecuteTime": {
     "end_time": "2022-05-28T11:56:53.612551Z",
     "start_time": "2022-05-28T11:56:53.607130Z"
    }
   },
   "outputs": [],
   "source": [
    "output = []\n",
    "for o in out:\n",
    "    output += o"
   ]
  },
  {
   "cell_type": "code",
   "execution_count": 334,
   "metadata": {
    "ExecuteTime": {
     "end_time": "2022-05-28T11:56:53.626038Z",
     "start_time": "2022-05-28T11:56:53.615721Z"
    }
   },
   "outputs": [],
   "source": [
    "df = pd.DataFrame(output)"
   ]
  },
  {
   "cell_type": "code",
   "execution_count": 335,
   "metadata": {
    "ExecuteTime": {
     "end_time": "2022-05-28T11:56:53.645786Z",
     "start_time": "2022-05-28T11:56:53.628430Z"
    }
   },
   "outputs": [
    {
     "data": {
      "text/html": [
       "<div>\n",
       "<style scoped>\n",
       "    .dataframe tbody tr th:only-of-type {\n",
       "        vertical-align: middle;\n",
       "    }\n",
       "\n",
       "    .dataframe tbody tr th {\n",
       "        vertical-align: top;\n",
       "    }\n",
       "\n",
       "    .dataframe thead th {\n",
       "        text-align: right;\n",
       "    }\n",
       "</style>\n",
       "<table border=\"1\" class=\"dataframe\">\n",
       "  <thead>\n",
       "    <tr style=\"text-align: right;\">\n",
       "      <th></th>\n",
       "      <th>a</th>\n",
       "      <th>i</th>\n",
       "      <th>avg_distance</th>\n",
       "      <th>avg_attempt</th>\n",
       "    </tr>\n",
       "  </thead>\n",
       "  <tbody>\n",
       "    <tr>\n",
       "      <th>0</th>\n",
       "      <td>1</td>\n",
       "      <td>0</td>\n",
       "      <td>0.000000</td>\n",
       "      <td>1.499150</td>\n",
       "    </tr>\n",
       "    <tr>\n",
       "      <th>1</th>\n",
       "      <td>1</td>\n",
       "      <td>1</td>\n",
       "      <td>0.000000</td>\n",
       "      <td>1.499535</td>\n",
       "    </tr>\n",
       "    <tr>\n",
       "      <th>2</th>\n",
       "      <td>1</td>\n",
       "      <td>2</td>\n",
       "      <td>0.000000</td>\n",
       "      <td>1.499647</td>\n",
       "    </tr>\n",
       "    <tr>\n",
       "      <th>3</th>\n",
       "      <td>1</td>\n",
       "      <td>3</td>\n",
       "      <td>0.000000</td>\n",
       "      <td>1.499515</td>\n",
       "    </tr>\n",
       "    <tr>\n",
       "      <th>4</th>\n",
       "      <td>1</td>\n",
       "      <td>4</td>\n",
       "      <td>0.000000</td>\n",
       "      <td>1.499504</td>\n",
       "    </tr>\n",
       "    <tr>\n",
       "      <th>...</th>\n",
       "      <td>...</td>\n",
       "      <td>...</td>\n",
       "      <td>...</td>\n",
       "      <td>...</td>\n",
       "    </tr>\n",
       "    <tr>\n",
       "      <th>995</th>\n",
       "      <td>991</td>\n",
       "      <td>5</td>\n",
       "      <td>15.847782</td>\n",
       "      <td>14.002675</td>\n",
       "    </tr>\n",
       "    <tr>\n",
       "      <th>996</th>\n",
       "      <td>991</td>\n",
       "      <td>6</td>\n",
       "      <td>15.851847</td>\n",
       "      <td>14.004123</td>\n",
       "    </tr>\n",
       "    <tr>\n",
       "      <th>997</th>\n",
       "      <td>991</td>\n",
       "      <td>7</td>\n",
       "      <td>15.853251</td>\n",
       "      <td>14.006412</td>\n",
       "    </tr>\n",
       "    <tr>\n",
       "      <th>998</th>\n",
       "      <td>991</td>\n",
       "      <td>8</td>\n",
       "      <td>15.854181</td>\n",
       "      <td>14.005024</td>\n",
       "    </tr>\n",
       "    <tr>\n",
       "      <th>999</th>\n",
       "      <td>991</td>\n",
       "      <td>9</td>\n",
       "      <td>15.848061</td>\n",
       "      <td>13.998367</td>\n",
       "    </tr>\n",
       "  </tbody>\n",
       "</table>\n",
       "<p>1000 rows × 4 columns</p>\n",
       "</div>"
      ],
      "text/plain": [
       "       a  i  avg_distance  avg_attempt\n",
       "0      1  0      0.000000     1.499150\n",
       "1      1  1      0.000000     1.499535\n",
       "2      1  2      0.000000     1.499647\n",
       "3      1  3      0.000000     1.499515\n",
       "4      1  4      0.000000     1.499504\n",
       "..   ... ..           ...          ...\n",
       "995  991  5     15.847782    14.002675\n",
       "996  991  6     15.851847    14.004123\n",
       "997  991  7     15.853251    14.006412\n",
       "998  991  8     15.854181    14.005024\n",
       "999  991  9     15.848061    13.998367\n",
       "\n",
       "[1000 rows x 4 columns]"
      ]
     },
     "execution_count": 335,
     "metadata": {},
     "output_type": "execute_result"
    }
   ],
   "source": [
    "df"
   ]
  },
  {
   "cell_type": "code",
   "execution_count": 336,
   "metadata": {
    "ExecuteTime": {
     "end_time": "2022-05-28T11:56:53.905114Z",
     "start_time": "2022-05-28T11:56:53.647833Z"
    }
   },
   "outputs": [
    {
     "data": {
      "text/plain": [
       "<AxesSubplot:xlabel='a'>"
      ]
     },
     "execution_count": 336,
     "metadata": {},
     "output_type": "execute_result"
    },
    {
     "data": {
      "image/png": "[encoded data removed]",
      "text/plain": [
       "<Figure size 432x288 with 1 Axes>"
      ]
     },
     "metadata": {
      "needs_background": "light"
     },
     "output_type": "display_data"
    }
   ],
   "source": [
    "df.groupby(\"a\").agg({\"avg_distance\":\"mean\", \"avg_attempt\":\"mean\"}).reset_index().plot(\"a\", [\"avg_distance\", \"avg_attempt\"])"
   ]
  },
  {
   "cell_type": "markdown",
   "metadata": {
    "hide_input": false
   },
   "source": [
    "### Multiplier of 2"
   ]
  },
  {
   "cell_type": "code",
   "execution_count": 250,
   "metadata": {
    "ExecuteTime": {
     "end_time": "2022-05-28T11:18:04.770006Z",
     "start_time": "2022-05-28T11:18:04.529897Z"
    },
    "hide_input": true
   },
   "outputs": [
    {
     "data": {
      "text/plain": [
       "<AxesSubplot:xlabel='a'>"
      ]
     },
     "execution_count": 250,
     "metadata": {},
     "output_type": "execute_result"
    },
    {
     "data": {
      "image/png": "[encoded data removed]",
      "text/plain": [
       "<Figure size 432x288 with 1 Axes>"
      ]
     },
     "metadata": {
      "needs_background": "light"
     },
     "output_type": "display_data"
    }
   ],
   "source": [
    "df.groupby(\"a\").agg({\"avg_distance\":\"mean\", \"avg_attempt\":\"mean\"}).reset_index().plot(\"a\", [\"avg_distance\", \"avg_attempt\"])"
   ]
  },
  {
   "cell_type": "markdown",
   "metadata": {},
   "source": [
    "### Aritimatic Progression - a ~= 2.718"
   ]
  },
  {
   "cell_type": "code",
   "execution_count": 279,
   "metadata": {
    "ExecuteTime": {
     "end_time": "2022-05-28T11:29:14.573670Z",
     "start_time": "2022-05-28T11:29:14.309581Z"
    },
    "hide_input": true
   },
   "outputs": [
    {
     "data": {
      "text/plain": [
       "<AxesSubplot:xlabel='a'>"
      ]
     },
     "execution_count": 279,
     "metadata": {},
     "output_type": "execute_result"
    },
    {
     "data": {
      "image/png": "[encoded data removed]",
      "text/plain": [
       "<Figure size 432x288 with 1 Axes>"
      ]
     },
     "metadata": {
      "needs_background": "light"
     },
     "output_type": "display_data"
    }
   ],
   "source": [
    "df.groupby(\"a\").agg({\"avg_distance\":\"mean\", \"avg_attempt\":\"mean\"}).reset_index().plot(\"a\", [\"avg_distance\", \"avg_attempt\"])"
   ]
  },
  {
   "cell_type": "markdown",
   "metadata": {},
   "source": [
    "### Aritimatic Progression - a = 2"
   ]
  },
  {
   "cell_type": "code",
   "execution_count": 240,
   "metadata": {
    "ExecuteTime": {
     "end_time": "2022-05-28T11:10:14.399164Z",
     "start_time": "2022-05-28T11:10:14.155691Z"
    },
    "hide_input": true
   },
   "outputs": [
    {
     "data": {
      "text/plain": [
       "<AxesSubplot:xlabel='a'>"
      ]
     },
     "execution_count": 240,
     "metadata": {},
     "output_type": "execute_result"
    },
    {
     "data": {
      "image/png": "[encoded data removed]",
      "text/plain": [
       "<Figure size 432x288 with 1 Axes>"
      ]
     },
     "metadata": {
      "needs_background": "light"
     },
     "output_type": "display_data"
    }
   ],
   "source": [
    "df.groupby(\"a\").agg({\"avg_distance\":\"mean\", \"avg_attempt\":\"mean\"}).reset_index().plot(\"a\", [\"avg_distance\", \"avg_attempt\"])"
   ]
  },
  {
   "cell_type": "markdown",
   "metadata": {},
   "source": [
    "### Power of 2 steps"
   ]
  },
  {
   "cell_type": "code",
   "execution_count": 227,
   "metadata": {
    "ExecuteTime": {
     "end_time": "2022-05-28T10:55:34.861447Z",
     "start_time": "2022-05-28T10:55:34.602357Z"
    },
    "hide_input": true
   },
   "outputs": [
    {
     "data": {
      "text/plain": [
       "<AxesSubplot:xlabel='a'>"
      ]
     },
     "execution_count": 227,
     "metadata": {},
     "output_type": "execute_result"
    },
    {
     "data": {
      "image/png": "[encoded data removed]",
      "text/plain": [
       "<Figure size 432x288 with 1 Axes>"
      ]
     },
     "metadata": {
      "needs_background": "light"
     },
     "output_type": "display_data"
    }
   ],
   "source": [
    "df.groupby(\"a\").agg({\"avg_distance\":\"mean\", \"avg_attempt\":\"mean\"}).reset_index().plot(\"a\", [\"avg_distance\", \"avg_attempt\"])"
   ]
  },
  {
   "cell_type": "markdown",
   "metadata": {},
   "source": [
    "### Fibonaci steps"
   ]
  },
  {
   "cell_type": "code",
   "execution_count": 218,
   "metadata": {
    "ExecuteTime": {
     "end_time": "2022-05-28T10:42:45.388690Z",
     "start_time": "2022-05-28T10:42:45.151148Z"
    },
    "hide_input": true
   },
   "outputs": [
    {
     "data": {
      "text/plain": [
       "<AxesSubplot:xlabel='a'>"
      ]
     },
     "execution_count": 218,
     "metadata": {},
     "output_type": "execute_result"
    },
    {
     "data": {
      "image/png": "[encoded data removed]",
      "text/plain": [
       "<Figure size 432x288 with 1 Axes>"
      ]
     },
     "metadata": {
      "needs_background": "light"
     },
     "output_type": "display_data"
    }
   ],
   "source": [
    "df.groupby(\"a\").agg({\"avg_distance\":\"mean\", \"avg_attempt\":\"mean\"}).reset_index().plot(\"a\", [\"avg_distance\", \"avg_attempt\"])"
   ]
  },
  {
   "cell_type": "code",
   "execution_count": null,
   "metadata": {},
   "outputs": [],
   "source": []
  }
 ],
 "metadata": {
  "kernelspec": {
   "display_name": "Python 3",
   "language": "python",
   "name": "python3"
  },
  "language_info": {
   "codemirror_mode": {
    "name": "ipython",
    "version": 3
   },
   "file_extension": ".py",
   "mimetype": "text/x-python",
   "name": "python",
   "nbconvert_exporter": "python",
   "pygments_lexer": "ipython3",
   "version": "3.7.3"
  },
  "toc": {
   "base_numbering": 1,
   "nav_menu": {},
   "number_sections": true,
   "sideBar": true,
   "skip_h1_title": false,
   "title_cell": "Table of Contents",
   "title_sidebar": "Contents",
   "toc_cell": false,
   "toc_position": {},
   "toc_section_display": true,
   "toc_window_display": false
  }
 },
 "nbformat": 4,
 "nbformat_minor": 2
}
